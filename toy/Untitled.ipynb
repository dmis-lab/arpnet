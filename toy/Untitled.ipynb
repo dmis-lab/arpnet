{
 "cells": [
  {
   "cell_type": "code",
   "execution_count": 1,
   "metadata": {},
   "outputs": [],
   "source": [
    "import csv\n",
    "import random"
   ]
  },
  {
   "cell_type": "code",
   "execution_count": 5,
   "metadata": {},
   "outputs": [],
   "source": [
    "train_1, test_1, train_2, test_2 = [], [], [], []\n",
    "with open(\"train_1.tsv\") as tsvfile:\n",
    "    tsvreader = csv.reader(tsvfile, delimiter=\"\\t\")\n",
    "    for line in tsvreader:\n",
    "        train_1.append(line)\n",
    "        \n",
    "with open(\"test_1.tsv\") as tsvfile:\n",
    "    tsvreader = csv.reader(tsvfile, delimiter=\"\\t\")\n",
    "    for line in tsvreader:\n",
    "        test_1.append(line)\n",
    "        \n",
    "with open(\"train_2.tsv\") as tsvfile:\n",
    "    tsvreader = csv.reader(tsvfile, delimiter=\"\\t\")\n",
    "    for line in tsvreader:\n",
    "        train_2.append(line)\n",
    "        \n",
    "with open(\"test_2.tsv\") as tsvfile:\n",
    "    tsvreader = csv.reader(tsvfile, delimiter=\"\\t\")\n",
    "    for line in tsvreader:\n",
    "        test_2.append(line)\n",
    "        \n",
    "patient_data = []\n",
    "with open(\"patient_data.tsv\") as tsvfile:\n",
    "    tsvreader = csv.reader(tsvfile, delimiter=\"\\t\")\n",
    "    for line in tsvreader:\n",
    "        patient_data.append(line)"
   ]
  },
  {
   "cell_type": "code",
   "execution_count": 3,
   "metadata": {},
   "outputs": [],
   "source": [
    "patients = {}\n",
    "drugs = {}\n",
    "\n",
    "for line in train_1+train_2+test_1+test_2:\n",
    "    if line[0] not in patients:\n",
    "        patients[line[0]] = len(patients) + 1"
   ]
  },
  {
   "cell_type": "code",
   "execution_count": 12,
   "metadata": {},
   "outputs": [],
   "source": [
    "toy_patients = []\n",
    "\n",
    "header = [\"patient\"]\n",
    "for i in xrange(1, 128):\n",
    "    header.append(\"demo_feature_{}\".format(i))\n",
    "for i in xrange(1, 21):\n",
    "    header.append(\"bio_feature_{}\".format(i))\n",
    "for i in xrange(1, 21):\n",
    "    header.append(\"gene_feature_{}\".format(i))\n",
    "for i in xrange(1, 21):\n",
    "    header.append(\"methyl_feature_{}\".format(i))\n",
    "\n",
    "sampled = random.sample(patient_data[1:], len(patients))\n",
    "\n",
    "toy_patients.append(header)\n",
    "\n",
    "keys = patients.keys()\n",
    "random.shuffle(keys)\n",
    "for i in xrange(len(keys)):\n",
    "    data = sampled[i]\n",
    "    data[0] = \"patient_{}\".format(i)\n",
    "    toy_patients.append(data)\n",
    "    \n"
   ]
  },
  {
   "cell_type": "code",
   "execution_count": 8,
   "metadata": {},
   "outputs": [],
   "source": [
    "toy_train_1, toy_test_1, toy_train_2, toy_test_2 = [[\"patient\", \"current HAM-D\", \"visit week\", \"drugs\", \"respond\"]],[[\"patient\", \"current HAM-D\", \"visit week\", \"drugs\", \"respond\"]],[[\"patient\", \"current HAM-D\", \"visit week\", \"drugs\", \"respond\"]],[[\"patient\", \"current HAM-D\", \"visit week\", \"drugs\", \"respond\"]]\n",
    "\n",
    "for line in train_1:\n",
    "    line[0] = \"patient_{}\".format(patients[line[0]])\n",
    "    toy_train_1.append(line)\n",
    "    \n",
    "for line in train_2:\n",
    "    line[0] = \"patient_{}\".format(patients[line[0]])\n",
    "    toy_train_2.append(line)\n",
    "    \n",
    "for line in test_1:\n",
    "    line[0] = \"patient_{}\".format(patients[line[0]])\n",
    "    toy_test_1.append(line)\n",
    "    \n",
    "for line in test_2:\n",
    "    line[0] = \"patient_{}\".format(patients[line[0]])\n",
    "    toy_test_2.append(line)"
   ]
  },
  {
   "cell_type": "code",
   "execution_count": 15,
   "metadata": {},
   "outputs": [],
   "source": [
    "with open(\"toy_train_1.tsv\", \"w\") as f:\n",
    "    f.write(\"\\n\".join([\"\\t\".join(line) for line in train_1]))\n",
    "with open(\"toy_train_2.tsv\", \"w\") as f:\n",
    "    f.write(\"\\n\".join([\"\\t\".join(line) for line in train_2]))\n",
    "with open(\"toy_test_1.tsv\", \"w\") as f:\n",
    "    f.write(\"\\n\".join([\"\\t\".join(line) for line in test_1]))\n",
    "with open(\"toy_test_2.tsv\", \"w\") as f:\n",
    "    f.write(\"\\n\".join([\"\\t\".join(line) for line in test_2]))\n",
    "with open(\"toy_patient_data.tsv\", \"w\") as f:\n",
    "    f.write(\"\\n\".join([\"\\t\".join(line) for line in toy_patients]))\n",
    "    "
   ]
  },
  {
   "cell_type": "code",
   "execution_count": null,
   "metadata": {},
   "outputs": [],
   "source": []
  }
 ],
 "metadata": {
  "kernelspec": {
   "display_name": "Python 2",
   "language": "python",
   "name": "python2"
  },
  "language_info": {
   "codemirror_mode": {
    "name": "ipython",
    "version": 2
   },
   "file_extension": ".py",
   "mimetype": "text/x-python",
   "name": "python",
   "nbconvert_exporter": "python",
   "pygments_lexer": "ipython2",
   "version": "2.7.12"
  }
 },
 "nbformat": 4,
 "nbformat_minor": 2
}
